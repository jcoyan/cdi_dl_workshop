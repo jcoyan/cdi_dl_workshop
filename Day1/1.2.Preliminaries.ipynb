{
 "cells": [
  {
   "cell_type": "markdown",
   "metadata": {},
   "source": [
    "# MAPPING LAND-USE, HAZARD VULNERABILITY AND HABITAT SUITABILITY USING DEEP NEURAL NETWORKS"
   ]
  },
  {
   "cell_type": "markdown",
   "metadata": {},
   "source": [
    "> Written by Dr Daniel Buscombe, Northern Arizona University\n",
    "\n",
    "> Part of a series of notebooks for image recognition and classification using deep convolutional neural networks"
   ]
  },
  {
   "cell_type": "markdown",
   "metadata": {},
   "source": [
    "# Preliminaries"
   ]
  },
  {
   "cell_type": "markdown",
   "metadata": {},
   "source": [
    "## Workflows"
   ]
  },
  {
   "cell_type": "markdown",
   "metadata": {},
   "source": [
    "### Get the code\n",
    "\n",
    "Jupyter notebooks: [github repo here](https://github.com/dbuscombe-usgs/cdi_dl_workshop)\n",
    "\n",
    "Python package: [github repo here](https://github.com/dbuscombe-usgs/dl_tools.git)"
   ]
  },
  {
   "cell_type": "markdown",
   "metadata": {},
   "source": [
    "### 1. Running Jupyter notebooks on the http://pangeo.esipfed.org cloud computing environment"
   ]
  },
  {
   "cell_type": "markdown",
   "metadata": {},
   "source": [
    "* Sign in with your github credentials\n",
    "\n",
    "* The traditional jupyter interface comes up by default\n",
    "\n",
    "* If you wish to switch to the ```Jupyterlab``` interface by using the following URL form:\n",
    "\n",
    "http://pangeo.esipfed.org/user/yourusername/lab?\n",
    "\n",
    "* Open a terminal and clone the github repo:\n",
    "\n",
    "```git clone https://github.com/dbuscombe-usgs/cdi_dl_workshop.git```"
   ]
  },
  {
   "cell_type": "markdown",
   "metadata": {},
   "source": [
    "### 2. Running Jupyter notebooks on your PC"
   ]
  },
  {
   "cell_type": "markdown",
   "metadata": {},
   "source": [
    "1. Open an anaconda prompt\n",
    "2. ```conda activate tfpy35```\n",
    "3. ```git clone https://github.com/dbuscombe-usgs/cdi_dl_workshop.git```\n",
    "4. ```jupyter notebook```    "
   ]
  },
  {
   "cell_type": "markdown",
   "metadata": {},
   "source": [
    "### 3. Running python scripts on your PC"
   ]
  },
  {
   "cell_type": "markdown",
   "metadata": {},
   "source": [
    "1. Open an anaconda prompt\n",
    "2. ```conda activate tfpy35```\n",
    "3. ```git clone https://github.com/dbuscombe-usgs/dl_tools.git``` \n",
    "\n",
    "Note that dl-tools is designed to be run on your computer using files on your computer. It is not, therefore, designed to interact with google drive or S3 storage systems\n",
    "\n",
    "The ```README``` file contains a full list of instructions for executing the scripts with the provided dataset, in ```demo_data```"
   ]
  },
  {
   "cell_type": "markdown",
   "metadata": {},
   "source": [
    "## Python"
   ]
  },
  {
   "cell_type": "markdown",
   "metadata": {},
   "source": [
    "There are some useful python cheat sheets [here](https://ehmatthes.github.io/pcc/cheatsheets/README.html)"
   ]
  },
  {
   "cell_type": "markdown",
   "metadata": {},
   "source": [
    "## Virtual environment"
   ]
  },
  {
   "cell_type": "markdown",
   "metadata": {},
   "source": [
    "Activate: ```conda activate tfpy35```"
   ]
  },
  {
   "cell_type": "markdown",
   "metadata": {},
   "source": [
    "Deactivate: ```conda deactivate``` "
   ]
  },
  {
   "cell_type": "markdown",
   "metadata": {},
   "source": [
    "Remove: ```conda env remove --name tfpy35```"
   ]
  },
  {
   "cell_type": "markdown",
   "metadata": {},
   "source": [
    "More conda commands [here](https://conda.io/docs/user-guide/tasks/manage-environments.html)"
   ]
  },
  {
   "cell_type": "markdown",
   "metadata": {},
   "source": [
    "## Project website"
   ]
  },
  {
   "cell_type": "markdown",
   "metadata": {},
   "source": [
    "[Here](https://sites.google.com/view/usgsdeeplearning/home?authuser=0)"
   ]
  },
  {
   "cell_type": "markdown",
   "metadata": {},
   "source": [
    "## Google Drive"
   ]
  },
  {
   "cell_type": "markdown",
   "metadata": {},
   "source": [
    "[Here](https://drive.google.com/open?id=1IhStVBhWMKLZUWIprti6zZyOg32-W4Of)"
   ]
  },
  {
   "cell_type": "code",
   "execution_count": null,
   "metadata": {},
   "outputs": [],
   "source": []
  }
 ],
 "metadata": {
  "kernelspec": {
   "display_name": "Python [default]",
   "language": "python",
   "name": "python3"
  },
  "language_info": {
   "codemirror_mode": {
    "name": "ipython",
    "version": 3
   },
   "file_extension": ".py",
   "mimetype": "text/x-python",
   "name": "python",
   "nbconvert_exporter": "python",
   "pygments_lexer": "ipython3",
   "version": "3.6.5"
  }
 },
 "nbformat": 4,
 "nbformat_minor": 2
}
