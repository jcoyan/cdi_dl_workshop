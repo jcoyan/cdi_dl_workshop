{
 "cells": [
  {
   "cell_type": "markdown",
   "metadata": {},
   "source": [
    "# Day 1 overview"
   ]
  },
  {
   "cell_type": "markdown",
   "metadata": {},
   "source": [
    "## Objectives"
   ]
  },
  {
   "cell_type": "markdown",
   "metadata": {},
   "source": [
    "* Overview of various machine learning strategies for image and pixel classification\n",
    "    * Image classification = 'image recognition'\n",
    "    * Pixel classification = 'semantic segmentation'\n",
    "    * Finding objects in images = 'object localization'\n",
    "\n",
    "\n",
    "* We'll be developing classifiers to\n",
    "    * Locate images of Grand Canyon sandbars\n",
    "    * Find airplanes in images\n",
    "    * Find sand pixels in images of Grand Canyon sandbars\n",
    "    * Classify google earth scenes"
   ]
  },
  {
   "cell_type": "markdown",
   "metadata": {},
   "source": [
    "## Preliminaries\n",
    "* Software\n",
    "* cloud computing environment\n",
    "* conda environments\n",
    "\n",
    "> Workbook: Day1/1.2.Preliminaries.ipynb"
   ]
  },
  {
   "cell_type": "markdown",
   "metadata": {},
   "source": [
    "## Group presentations\n",
    "* 2 mins per person\n",
    "* Who you are and what you work on\n",
    "* Why you are interested in image classification"
   ]
  },
  {
   "cell_type": "markdown",
   "metadata": {},
   "source": [
    "## Introduction to ML for image classification\n",
    "* \n",
    "\n",
    "> Workbook: Day1/1.1.ML_forimageclass.ipynb"
   ]
  },
  {
   "cell_type": "markdown",
   "metadata": {},
   "source": [
    "## Datasets\n",
    "* Interacting with S3 storage and looking at file structure\n",
    "* Reading and displaying imagery\n",
    "* Reading other types of files\n",
    "\n",
    "> Workbook: Day1/1.3.Datasets.ipynb"
   ]
  },
  {
   "cell_type": "markdown",
   "metadata": {},
   "source": [
    "## Introduction to jupyter\n",
    "* Basics\n",
    "* Magic commands\n",
    "* File management\n",
    "\n",
    "> Workbook: Day1/1.4.Intro_jupyter.ipynb"
   ]
  },
  {
   "cell_type": "markdown",
   "metadata": {},
   "source": [
    "## Introduction to scikit-learn and image feature extraction\n",
    "* Basics of scikit-learn and rationale behind feature extraction\n",
    "* Extracting HOG features from imagery\n",
    "* Principal components of imagery and data reduction\n",
    "* Exercise\n",
    "\n",
    "> Workbook: Day1/1.5.feature_extraction_scikitlearn.ipynb"
   ]
  },
  {
   "cell_type": "markdown",
   "metadata": {},
   "source": [
    "## Introdution to image recognition with scikit-learn\n",
    "* Preparing a dataset\n",
    "* Decision trees and random forest\n",
    "* Basic accuracy statistics\n",
    "* Confusion matrices\n",
    "* Cross-validation\n",
    "* Feature importances\n",
    "* Support vector machines (SVMs)\n",
    "* Object localization using HOG features and SVMs\n",
    "* Exercises\n",
    "\n",
    "> Workbook: Day1/1.6.imrecog_scikitlearn.ipynb"
   ]
  },
  {
   "cell_type": "markdown",
   "metadata": {},
   "source": [
    "## Introduction to semantic segmentation with scikit-learn\n",
    "* Naïve Bayes classification\n",
    "* Naïve Bayes classification with principal components\n",
    "* Gaussian Mixture Model\n",
    "* Exercises\n",
    "\n",
    "> Workbook: Day1/1.7.semseg_scikitlearn.ipynb"
   ]
  },
  {
   "cell_type": "markdown",
   "metadata": {},
   "source": [
    "## Introduction to tensorflow\n",
    "* Concepts\n",
    "* Working with imagery\n",
    "* Placeholders and feed dictionaries\n",
    "\n",
    "> Workbook: Day1/1.8.Intro_tensorflow.ipynb"
   ]
  },
  {
   "cell_type": "markdown",
   "metadata": {},
   "source": [
    "## Introduction to artificial neural networks\n",
    "* Preparing a dataset\n",
    "* Setting up the network\n",
    "* Training\n",
    "* Evaluating the classification accuracy of the network\n",
    "* Building a neural network with tensorflow\n",
    "* Exercises\n",
    "\n",
    "> Workbook: Day1/1.9.Intro_ANN.ipynb"
   ]
  },
  {
   "cell_type": "code",
   "execution_count": null,
   "metadata": {},
   "outputs": [],
   "source": []
  }
 ],
 "metadata": {
  "kernelspec": {
   "display_name": "Python [conda env:conda]",
   "language": "python",
   "name": "conda-env-conda-py"
  },
  "language_info": {
   "codemirror_mode": {
    "name": "ipython",
    "version": 3
   },
   "file_extension": ".py",
   "mimetype": "text/x-python",
   "name": "python",
   "nbconvert_exporter": "python",
   "pygments_lexer": "ipython3",
   "version": "3.6.5"
  }
 },
 "nbformat": 4,
 "nbformat_minor": 2
}
