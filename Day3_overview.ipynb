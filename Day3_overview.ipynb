{
 "cells": [
  {
   "cell_type": "markdown",
   "metadata": {},
   "source": [
    "# Day 3 overview"
   ]
  },
  {
   "cell_type": "markdown",
   "metadata": {},
   "source": [
    "## Objectives"
   ]
  },
  {
   "cell_type": "markdown",
   "metadata": {},
   "source": [
    "* We'll be developing a DCNN from scratch to detect water in images of shoreline environments\n",
    "\n",
    "* You will work on your own dataset(s) (or a provided dataset) to apply ML and/or DL to your own image classification problems"
   ]
  },
  {
   "cell_type": "markdown",
   "metadata": {},
   "source": [
    "### Training a DCNN from scratch in tensorflow\n",
    "* Setting up the model architecture\n",
    "* Preparing a test and train data set\n",
    "* Developing a training function and training the model\n",
    "* Testing the model\n",
    "* Multi-scalar prediction\n",
    "* Creating a water masker: global threshold versus generative model\n",
    "\n",
    "> Workbook: Day3/3.1.dcnn_scratch.ipynb"
   ]
  },
  {
   "cell_type": "markdown",
   "metadata": {},
   "source": [
    "### Participants working on their own data sets\n",
    "* (Optional) Short presentation to the group on the image classification problem\n",
    "* Applying DL or ML classifier to an image classification problem\n",
    "* Working with ```dl_tools``` library\n",
    "* (Optional) Presentation of findings to the group"
   ]
  },
  {
   "cell_type": "code",
   "execution_count": null,
   "metadata": {},
   "outputs": [],
   "source": []
  }
 ],
 "metadata": {
  "kernelspec": {
   "display_name": "Python [conda env:conda]",
   "language": "python",
   "name": "conda-env-conda-py"
  },
  "language_info": {
   "codemirror_mode": {
    "name": "ipython",
    "version": 3
   },
   "file_extension": ".py",
   "mimetype": "text/x-python",
   "name": "python",
   "nbconvert_exporter": "python",
   "pygments_lexer": "ipython3",
   "version": "3.6.5"
  }
 },
 "nbformat": 4,
 "nbformat_minor": 2
}
