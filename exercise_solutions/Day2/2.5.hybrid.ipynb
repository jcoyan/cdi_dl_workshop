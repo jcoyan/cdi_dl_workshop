{
 "cells": [
  {
   "cell_type": "markdown",
   "metadata": {},
   "source": [
    "## Example exercise solution 'hybrid' CNN-CRF segmentation"
   ]
  },
  {
   "cell_type": "markdown",
   "metadata": {},
   "source": [
    "1. Read a local file in (such as one in ```ccr_test```) and carry out a semantic segmentation with the appropriate retrained model"
   ]
  },
  {
   "cell_type": "code",
   "execution_count": null,
   "metadata": {},
   "outputs": [],
   "source": [
    "testimage = 'ccr_test/201305789.JPG'\n",
    "destination = 'gdrive_downloads'\n",
    "\n",
    "##https://drive.google.com/open?id=1Ilndo1Vzg1b5fSNtzD5IzL-3EGEp2vWi\n",
    "file_id = '1Ilndo1Vzg1b5fSNtzD5IzL-3EGEp2vWi'\n",
    "classifier_file = destination+os.sep+'ccr224_gdrive.pb'\n",
    "download_file_from_google_drive(file_id, classifier_file)\n",
    "\n",
    "##https://drive.google.com/open?id=1RmIQQh_l_NH1uV-hvg9EAQGSPfUHcCvU\n",
    "file_id = '1RmIQQh_l_NH1uV-hvg9EAQGSPfUHcCvU'\n",
    "labels_path = destination+os.sep+'ccr_labels.txt'\n",
    "download_file_from_google_drive(file_id, labels_path)\n",
    "\n",
    "fct = 0.063\n",
    "decim = 4\n",
    "tile = 224\n",
    "prob = prob_thres = 0.5"
   ]
  },
  {
   "cell_type": "code",
   "execution_count": null,
   "metadata": {},
   "outputs": [],
   "source": [
    "labels = [line.rstrip() for line \n",
    "                in tf.gfile.GFile(labels_path)]\n",
    "labels"
   ]
  },
  {
   "cell_type": "code",
   "execution_count": null,
   "metadata": {},
   "outputs": [],
   "source": [
    "cols = ['y','r','olive','gray','c','w','lightyellow','brown','g','b']"
   ]
  },
  {
   "cell_type": "code",
   "execution_count": null,
   "metadata": {},
   "outputs": [],
   "source": [
    "colors_path = 'ccr_colors.txt'\n",
    "with open(colors_path, 'a') as the_file:\n",
    "    for c in cols:\n",
    "        the_file.write(c+'\\n')"
   ]
  },
  {
   "cell_type": "code",
   "execution_count": null,
   "metadata": {},
   "outputs": [],
   "source": [
    "!cat ccr_colors.txt"
   ]
  },
  {
   "cell_type": "code",
   "execution_count": null,
   "metadata": {},
   "outputs": [],
   "source": [
    "%run ./semseg_cnn_crf.py $testimage $classifier_file $labels_path $colors_path $tile $prob_thres $prob $decim $fct"
   ]
  },
  {
   "cell_type": "code",
   "execution_count": null,
   "metadata": {},
   "outputs": [],
   "source": [
    "from scipy.io import loadmat\n",
    "from imageio import imread\n",
    "testimage = 'ccr_test/201305789.JPG'\n",
    "dat = loadmat('201305789_ares_224.mat')\n",
    "img = imread(testimage)"
   ]
  },
  {
   "cell_type": "code",
   "execution_count": null,
   "metadata": {},
   "outputs": [],
   "source": [
    "fig = plt.figure(figsize=(15,10))\n",
    "ax1 = fig.add_subplot(111)\n",
    "ax1.get_xaxis().set_visible(False)\n",
    "ax1.get_yaxis().set_visible(False)\n",
    "\n",
    "im = ax1.imshow(img)\n",
    "im2 = ax1.imshow(dat['class'], cmap=cmap1, alpha=0.5, vmin=0, vmax=len(labels))\n",
    "divider = make_axes_locatable(ax1)\n",
    "cax = divider.append_axes(\"right\", size=\"5%\")\n",
    "cb=plt.colorbar(im2, cax=cax)\n",
    "cb.set_ticks(.5+np.arange(len(labels)+1)) \n",
    "cb.ax.set_yticklabels(labels)\n",
    "cb.ax.tick_params(labelsize=6) "
   ]
  }
 ],
 "metadata": {
  "kernelspec": {
   "display_name": "Python [default]",
   "language": "python",
   "name": "python3"
  },
  "language_info": {
   "codemirror_mode": {
    "name": "ipython",
    "version": 3
   },
   "file_extension": ".py",
   "mimetype": "text/x-python",
   "name": "python",
   "nbconvert_exporter": "python",
   "pygments_lexer": "ipython3",
   "version": "3.6.5"
  }
 },
 "nbformat": 4,
 "nbformat_minor": 2
}
